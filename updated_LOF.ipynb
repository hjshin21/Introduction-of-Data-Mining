{
 "cells": [
  {
   "cell_type": "code",
   "execution_count": 5,
   "id": "9b524c1b-0bb8-475b-ae43-ad3a8bb77683",
   "metadata": {},
   "outputs": [
    {
     "name": "stdout",
     "output_type": "stream",
     "text": [
      "📊 평가 결과:\n",
      "              precision    recall  f1-score   support\n",
      "\n",
      "   Not Fraud       0.98      0.95      0.97      1469\n",
      "       Fraud       0.08      0.19      0.11        31\n",
      "\n",
      "    accuracy                           0.94      1500\n",
      "   macro avg       0.53      0.57      0.54      1500\n",
      "weighted avg       0.96      0.94      0.95      1500\n",
      "\n",
      "🎯 ROC AUC (Unsupervised): 0.7361\n"
     ]
    }
   ],
   "source": [
    "import pandas as pd\n",
    "import numpy as np\n",
    "import time\n",
    "from sklearn.preprocessing import StandardScaler\n",
    "from sklearn.decomposition import PCA\n",
    "from sklearn.neighbors import NearestNeighbors\n",
    "from sklearn.metrics import classification_report, roc_auc_score\n",
    "\n",
    "# ---------------------- 1. 데이터 로딩 및 전처리 ---------------------- #\n",
    "train_transaction = pd.read_csv(\"train_transaction.csv\")\n",
    "train_identity = pd.read_csv(\"train_identity.csv\")\n",
    "\n",
    "df = pd.merge(train_transaction, train_identity, on=\"TransactionID\", how=\"left\")\n",
    "df.fillna(0, inplace=True)\n",
    "\n",
    "y = df[\"isFraud\"].values\n",
    "X = df.select_dtypes(include=[np.number]).drop(columns=[\"TransactionID\", \"isFraud\"])\n",
    "\n",
    "# 정규화 및 차원축소\n",
    "scaler = StandardScaler()\n",
    "X_scaled = scaler.fit_transform(X)\n",
    "\n",
    "pca = PCA(n_components=20)\n",
    "X_scaled = pca.fit_transform(X_scaled)\n",
    "\n",
    "# ---------------------- 2. LF²-LOF 함수 정의 ---------------------- #\n",
    "def lf2_lof_vectorized(X, n_neighbors=20, epsilon=1e-6):\n",
    "    nbrs = NearestNeighbors(n_neighbors=n_neighbors + 1).fit(X)\n",
    "    _, indices = nbrs.kneighbors(X)\n",
    "    neighbors = X[indices[:, 1:]]\n",
    "    X_expanded = X[:, np.newaxis, :]\n",
    "    abs_diff = np.abs(X_expanded - neighbors)\n",
    "    mean_abs_diff = np.mean(abs_diff, axis=1)\n",
    "    std_dev = np.std(neighbors, axis=1) + epsilon\n",
    "    scores = np.mean(mean_abs_diff / std_dev, axis=1)\n",
    "    return scores\n",
    "\n",
    "# ---------------------- 3. 이상치 점수 계산 및 평가 ---------------------- #\n",
    "# 상위 5%를 이상치로 간주\n",
    "threshold = np.percentile(lf2_scores, 95)\n",
    "y_pred = (lf2_scores > threshold).astype(int)\n",
    "\n",
    "# 비지도 평가\n",
    "print(\"📊 평가 결과:\")\n",
    "print(classification_report(y, y_pred, target_names=[\"Not Fraud\", \"Fraud\"]))\n",
    "print(f\"🎯 ROC AUC (Unsupervised): {roc_auc_score(y, lf2_scores):.4f}\")\n"
   ]
  },
  {
   "cell_type": "code",
   "execution_count": null,
   "id": "9efa417f-6568-41b0-aee4-f25268e3132a",
   "metadata": {},
   "outputs": [],
   "source": []
  }
 ],
 "metadata": {
  "kernelspec": {
   "display_name": "Python 3 (ipykernel)",
   "language": "python",
   "name": "python3"
  },
  "language_info": {
   "codemirror_mode": {
    "name": "ipython",
    "version": 3
   },
   "file_extension": ".py",
   "mimetype": "text/x-python",
   "name": "python",
   "nbconvert_exporter": "python",
   "pygments_lexer": "ipython3",
   "version": "3.12.9"
  }
 },
 "nbformat": 4,
 "nbformat_minor": 5
}
