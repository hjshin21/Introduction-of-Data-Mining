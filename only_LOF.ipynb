{
 "cells": [
  {
   "cell_type": "code",
   "execution_count": 15,
   "id": "40f574f0-369d-482e-b4d8-e93614b6ca40",
   "metadata": {},
   "outputs": [
    {
     "name": "stdout",
     "output_type": "stream",
     "text": [
      "📊 Classification Report:\n",
      "              precision    recall  f1-score   support\n",
      "\n",
      "   Not Fraud       0.98      0.95      0.97      1469\n",
      "       Fraud       0.05      0.13      0.08        31\n",
      "\n",
      "    accuracy                           0.93      1500\n",
      "   macro avg       0.52      0.54      0.52      1500\n",
      "weighted avg       0.96      0.93      0.95      1500\n",
      "\n",
      "🎯 ROC AUC Score: 0.6512\n"
     ]
    }
   ],
   "source": [
    "import pandas as pd\n",
    "import numpy as np\n",
    "from sklearn.preprocessing import StandardScaler\n",
    "from sklearn.decomposition import PCA\n",
    "from sklearn.neighbors import LocalOutlierFactor\n",
    "from sklearn.cluster import KMeans\n",
    "from sklearn.metrics import classification_report, roc_auc_score\n",
    "import matplotlib.pyplot as plt\n",
    "\n",
    "# 1. 데이터 로딩\n",
    "train_transaction = pd.read_csv(\"train_transaction.csv\")\n",
    "train_identity = pd.read_csv(\"train_identity.csv\")\n",
    "\n",
    "# 2. 병합\n",
    "df = pd.merge(train_transaction, train_identity, on=\"TransactionID\", how=\"left\")\n",
    "\n",
    "# 3. 결측치 간단 처리 (예: 결측치 0으로 채움)\n",
    "df.fillna(0, inplace=True)\n",
    "\n",
    "# 4. 라벨 분리\n",
    "y = df[\"isFraud\"].values  # 사기 여부 (0 또는 1)\n",
    "\n",
    "# 5. 불필요한 열 제거 (예: ID 또는 날짜열 등), 여기서는 간단히 숫자형만 사용\n",
    "X = df.select_dtypes(include=[np.number]).drop(columns=[\"TransactionID\", \"isFraud\"])\n",
    "\n",
    "# 6. 정규화\n",
    "X_scaled = StandardScaler().fit_transform(X)\n",
    "\n",
    "# 7. PCA 축소\n",
    "X_pca = PCA(n_components=5, random_state=42).fit_transform(X_scaled)\n",
    "\n",
    "# 8. LOF 적용 (비지도학습)\n",
    "lof = LocalOutlierFactor(n_neighbors=20, novelty=False)\n",
    "lof.fit(X_pca)\n",
    "lof_decision_scores = -lof.negative_outlier_factor_\n",
    "\n",
    "# 9. 이상치 예측 (상위 5%를 이상치로 판단)\n",
    "threshold = np.percentile(lof_decision_scores, 95)\n",
    "y_pred = (lof_decision_scores > threshold).astype(int)\n",
    "\n",
    "# 10. 평가 출력\n",
    "print(\"📊 Classification Report:\")\n",
    "print(classification_report(y, y_pred, target_names=[\"Not Fraud\", \"Fraud\"]))\n",
    "print(f\"🎯 ROC AUC Score: {roc_auc_score(y, lof_decision_scores):.4f}\")\n"
   ]
  },
  {
   "cell_type": "code",
   "execution_count": null,
   "id": "b2047bae-f376-4a84-b515-c6c9feb78f5f",
   "metadata": {},
   "outputs": [],
   "source": []
  }
 ],
 "metadata": {
  "kernelspec": {
   "display_name": "Python 3 (ipykernel)",
   "language": "python",
   "name": "python3"
  },
  "language_info": {
   "codemirror_mode": {
    "name": "ipython",
    "version": 3
   },
   "file_extension": ".py",
   "mimetype": "text/x-python",
   "name": "python",
   "nbconvert_exporter": "python",
   "pygments_lexer": "ipython3",
   "version": "3.12.9"
  }
 },
 "nbformat": 4,
 "nbformat_minor": 5
}
